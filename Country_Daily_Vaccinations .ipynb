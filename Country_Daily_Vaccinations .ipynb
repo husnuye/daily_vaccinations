{
 "cells": [
  {
   "cell_type": "code",
   "execution_count": 61,
   "metadata": {},
   "outputs": [],
   "source": [
    "import numpy as np \n",
    "import pandas as pd \n"
   ]
  },
  {
   "cell_type": "code",
   "execution_count": 62,
   "metadata": {},
   "outputs": [
    {
     "name": "stdout",
     "output_type": "stream",
     "text": [
      "C:\\Users\\HP\\Desktop\\PIWORKS\n",
      "C:\\Users\\HP\\Desktop\\PIWORKS\n"
     ]
    }
   ],
   "source": [
    "import os\n",
    "print (os.getcwd())\n",
    "os.chdir('C:\\\\Users\\HP\\Desktop\\PIWORKS')\n",
    "print (os.getcwd())"
   ]
  },
  {
   "cell_type": "code",
   "execution_count": 63,
   "metadata": {},
   "outputs": [],
   "source": [
    " df = pd.read_csv('CountryVaccinationStats.csv',sep=\",\" )"
   ]
  },
  {
   "cell_type": "code",
   "execution_count": 64,
   "metadata": {},
   "outputs": [
    {
     "name": "stdout",
     "output_type": "stream",
     "text": [
      "        country        date  daily_vaccinations  \\\n",
      "0     Argentina  12/29/2020                 NaN   \n",
      "1     Argentina  12/30/2020             15656.0   \n",
      "2     Argentina  12/31/2020             15656.0   \n",
      "3     Argentina    1/1/2021             11070.0   \n",
      "4     Argentina    1/2/2021              8776.0   \n",
      "5     Argentina    1/3/2021              7400.0   \n",
      "6     Argentina    1/4/2021              6483.0   \n",
      "7     Argentina    1/5/2021              7984.0   \n",
      "8     Argentina    1/6/2021              8173.0   \n",
      "9     Argentina    1/7/2021              8363.0   \n",
      "10    Argentina    1/8/2021             10519.0   \n",
      "11    Argentina    1/9/2021             11942.0   \n",
      "12    Argentina   1/10/2021             13365.0   \n",
      "13    Argentina   1/11/2021             14788.0   \n",
      "14    Argentina   1/12/2021             14056.0   \n",
      "15    Argentina   1/13/2021             13323.0   \n",
      "16    Argentina   1/14/2021             13320.0   \n",
      "17    Argentina   1/15/2021             13317.0   \n",
      "18    Argentina   1/16/2021             12971.0   \n",
      "19    Argentina   1/17/2021             12624.0   \n",
      "20    Argentina   1/18/2021             12278.0   \n",
      "21    Argentina   1/19/2021             11932.0   \n",
      "22    Argentina   1/20/2021             11586.0   \n",
      "23    Argentina   1/21/2021             11704.0   \n",
      "24    Argentina   1/22/2021             11263.0   \n",
      "25    Argentina   1/23/2021             11124.0   \n",
      "26    Argentina   1/24/2021             10342.0   \n",
      "27    Argentina   1/25/2021              9046.0   \n",
      "28      Austria    1/5/2021                 NaN   \n",
      "29      Austria    1/6/2021              3368.0   \n",
      "...         ...         ...                 ...   \n",
      "1472      Wales  12/26/2020              1825.0   \n",
      "1473      Wales  12/27/2020              1763.0   \n",
      "1474      Wales  12/28/2020              1796.0   \n",
      "1475      Wales  12/29/2020              1830.0   \n",
      "1476      Wales  12/30/2020              1863.0   \n",
      "1477      Wales  12/31/2020              1896.0   \n",
      "1478      Wales    1/1/2021              1929.0   \n",
      "1479      Wales    1/2/2021              1962.0   \n",
      "1480      Wales    1/3/2021              1995.0   \n",
      "1481      Wales    1/4/2021              2450.0   \n",
      "1482      Wales    1/5/2021              2904.0   \n",
      "1483      Wales    1/6/2021              3359.0   \n",
      "1484      Wales    1/7/2021              3814.0   \n",
      "1485      Wales    1/8/2021              4268.0   \n",
      "1486      Wales    1/9/2021              4723.0   \n",
      "1487      Wales   1/10/2021              5177.0   \n",
      "1488      Wales   1/11/2021              5183.0   \n",
      "1489      Wales   1/12/2021              5893.0   \n",
      "1490      Wales   1/13/2021              6812.0   \n",
      "1491      Wales   1/14/2021              7988.0   \n",
      "1492      Wales   1/15/2021              8460.0   \n",
      "1493      Wales   1/16/2021              8931.0   \n",
      "1494      Wales   1/17/2021              9403.0   \n",
      "1495      Wales   1/18/2021             10123.0   \n",
      "1496      Wales   1/19/2021             10672.0   \n",
      "1497      Wales   1/20/2021             11105.0   \n",
      "1498      Wales   1/21/2021             12318.0   \n",
      "1499      Wales   1/22/2021             15148.0   \n",
      "1500      Wales   1/23/2021             17371.0   \n",
      "1501      Wales   1/24/2021             17063.0   \n",
      "\n",
      "                                 vaccines  \n",
      "0                               Sputnik V  \n",
      "1                               Sputnik V  \n",
      "2                               Sputnik V  \n",
      "3                               Sputnik V  \n",
      "4                               Sputnik V  \n",
      "5                               Sputnik V  \n",
      "6                               Sputnik V  \n",
      "7                               Sputnik V  \n",
      "8                               Sputnik V  \n",
      "9                               Sputnik V  \n",
      "10                              Sputnik V  \n",
      "11                              Sputnik V  \n",
      "12                              Sputnik V  \n",
      "13                              Sputnik V  \n",
      "14                              Sputnik V  \n",
      "15                              Sputnik V  \n",
      "16                              Sputnik V  \n",
      "17                              Sputnik V  \n",
      "18                              Sputnik V  \n",
      "19                              Sputnik V  \n",
      "20                              Sputnik V  \n",
      "21                              Sputnik V  \n",
      "22                              Sputnik V  \n",
      "23                              Sputnik V  \n",
      "24                              Sputnik V  \n",
      "25                              Sputnik V  \n",
      "26                              Sputnik V  \n",
      "27                              Sputnik V  \n",
      "28                        Pfizer/BioNTech  \n",
      "29                        Pfizer/BioNTech  \n",
      "...                                   ...  \n",
      "1472  Oxford/AstraZeneca, Pfizer/BioNTech  \n",
      "1473  Oxford/AstraZeneca, Pfizer/BioNTech  \n",
      "1474  Oxford/AstraZeneca, Pfizer/BioNTech  \n",
      "1475  Oxford/AstraZeneca, Pfizer/BioNTech  \n",
      "1476  Oxford/AstraZeneca, Pfizer/BioNTech  \n",
      "1477  Oxford/AstraZeneca, Pfizer/BioNTech  \n",
      "1478  Oxford/AstraZeneca, Pfizer/BioNTech  \n",
      "1479  Oxford/AstraZeneca, Pfizer/BioNTech  \n",
      "1480  Oxford/AstraZeneca, Pfizer/BioNTech  \n",
      "1481  Oxford/AstraZeneca, Pfizer/BioNTech  \n",
      "1482  Oxford/AstraZeneca, Pfizer/BioNTech  \n",
      "1483  Oxford/AstraZeneca, Pfizer/BioNTech  \n",
      "1484  Oxford/AstraZeneca, Pfizer/BioNTech  \n",
      "1485  Oxford/AstraZeneca, Pfizer/BioNTech  \n",
      "1486  Oxford/AstraZeneca, Pfizer/BioNTech  \n",
      "1487  Oxford/AstraZeneca, Pfizer/BioNTech  \n",
      "1488  Oxford/AstraZeneca, Pfizer/BioNTech  \n",
      "1489  Oxford/AstraZeneca, Pfizer/BioNTech  \n",
      "1490  Oxford/AstraZeneca, Pfizer/BioNTech  \n",
      "1491  Oxford/AstraZeneca, Pfizer/BioNTech  \n",
      "1492  Oxford/AstraZeneca, Pfizer/BioNTech  \n",
      "1493  Oxford/AstraZeneca, Pfizer/BioNTech  \n",
      "1494  Oxford/AstraZeneca, Pfizer/BioNTech  \n",
      "1495  Oxford/AstraZeneca, Pfizer/BioNTech  \n",
      "1496  Oxford/AstraZeneca, Pfizer/BioNTech  \n",
      "1497  Oxford/AstraZeneca, Pfizer/BioNTech  \n",
      "1498  Oxford/AstraZeneca, Pfizer/BioNTech  \n",
      "1499  Oxford/AstraZeneca, Pfizer/BioNTech  \n",
      "1500  Oxford/AstraZeneca, Pfizer/BioNTech  \n",
      "1501  Oxford/AstraZeneca, Pfizer/BioNTech  \n",
      "\n",
      "[1502 rows x 4 columns]\n"
     ]
    }
   ],
   "source": [
    "print(df)"
   ]
  },
  {
   "cell_type": "code",
   "execution_count": 50,
   "metadata": {},
   "outputs": [
    {
     "data": {
      "text/plain": [
       "country                object\n",
       "date                   object\n",
       "daily_vaccinations    float64\n",
       "vaccines               object\n",
       "dtype: object"
      ]
     },
     "execution_count": 50,
     "metadata": {},
     "output_type": "execute_result"
    }
   ],
   "source": [
    "df.dtypes"
   ]
  },
  {
   "cell_type": "code",
   "execution_count": 51,
   "metadata": {
    "scrolled": true
   },
   "outputs": [
    {
     "name": "stdout",
     "output_type": "stream",
     "text": [
      "<class 'pandas.core.frame.DataFrame'>\n",
      "RangeIndex: 1502 entries, 0 to 1501\n",
      "Data columns (total 4 columns):\n",
      "country               1502 non-null object\n",
      "date                  1502 non-null object\n",
      "daily_vaccinations    1442 non-null float64\n",
      "vaccines              1502 non-null object\n",
      "dtypes: float64(1), object(3)\n",
      "memory usage: 47.0+ KB\n"
     ]
    }
   ],
   "source": [
    "df.info()"
   ]
  },
  {
   "cell_type": "code",
   "execution_count": 52,
   "metadata": {},
   "outputs": [
    {
     "data": {
      "text/html": [
       "<div>\n",
       "<style scoped>\n",
       "    .dataframe tbody tr th:only-of-type {\n",
       "        vertical-align: middle;\n",
       "    }\n",
       "\n",
       "    .dataframe tbody tr th {\n",
       "        vertical-align: top;\n",
       "    }\n",
       "\n",
       "    .dataframe thead th {\n",
       "        text-align: right;\n",
       "    }\n",
       "</style>\n",
       "<table border=\"1\" class=\"dataframe\">\n",
       "  <thead>\n",
       "    <tr style=\"text-align: right;\">\n",
       "      <th></th>\n",
       "      <th>daily_vaccinations</th>\n",
       "    </tr>\n",
       "  </thead>\n",
       "  <tbody>\n",
       "    <tr>\n",
       "      <th>count</th>\n",
       "      <td>1.442000e+03</td>\n",
       "    </tr>\n",
       "    <tr>\n",
       "      <th>mean</th>\n",
       "      <td>4.334959e+04</td>\n",
       "    </tr>\n",
       "    <tr>\n",
       "      <th>std</th>\n",
       "      <td>1.165367e+05</td>\n",
       "    </tr>\n",
       "    <tr>\n",
       "      <th>min</th>\n",
       "      <td>1.000000e+00</td>\n",
       "    </tr>\n",
       "    <tr>\n",
       "      <th>25%</th>\n",
       "      <td>1.659750e+03</td>\n",
       "    </tr>\n",
       "    <tr>\n",
       "      <th>50%</th>\n",
       "      <td>5.567000e+03</td>\n",
       "    </tr>\n",
       "    <tr>\n",
       "      <th>75%</th>\n",
       "      <td>2.797975e+04</td>\n",
       "    </tr>\n",
       "    <tr>\n",
       "      <th>max</th>\n",
       "      <td>1.126251e+06</td>\n",
       "    </tr>\n",
       "  </tbody>\n",
       "</table>\n",
       "</div>"
      ],
      "text/plain": [
       "       daily_vaccinations\n",
       "count        1.442000e+03\n",
       "mean         4.334959e+04\n",
       "std          1.165367e+05\n",
       "min          1.000000e+00\n",
       "25%          1.659750e+03\n",
       "50%          5.567000e+03\n",
       "75%          2.797975e+04\n",
       "max          1.126251e+06"
      ]
     },
     "execution_count": 52,
     "metadata": {},
     "output_type": "execute_result"
    }
   ],
   "source": [
    "df.describe()"
   ]
  },
  {
   "cell_type": "code",
   "execution_count": 12,
   "metadata": {},
   "outputs": [
    {
     "name": "stdout",
     "output_type": "stream",
     "text": [
      "country                0\n",
      "date                   0\n",
      "daily_vaccinations    60\n",
      "vaccines               0\n",
      "dtype: int64\n"
     ]
    }
   ],
   "source": [
    "print (df.isnull().sum())"
   ]
  },
  {
   "cell_type": "code",
   "execution_count": 65,
   "metadata": {},
   "outputs": [
    {
     "name": "stdout",
     "output_type": "stream",
     "text": [
      "                     daily_vaccinations\n",
      "                                    min\n",
      "country                                \n",
      "Argentina                        6483.0\n",
      "Austria                          3368.0\n",
      "Bahrain                           943.0\n",
      "Belgium                             1.0\n",
      "Brazil                            112.0\n",
      "Bulgaria                          472.0\n",
      "Canada                            866.0\n",
      "Chile                              51.0\n",
      "China                          187500.0\n",
      "Costa Rica                        240.0\n",
      "Croatia                           989.0\n",
      "Cyprus                            534.0\n",
      "Czechia                          1822.0\n",
      "Denmark                          1994.0\n",
      "Ecuador                           108.0\n",
      "England                         37625.0\n",
      "Estonia                           309.0\n",
      "Finland                           459.0\n",
      "France                           5000.0\n",
      "Germany                         19721.0\n",
      "Gibraltar                         520.0\n",
      "Greece                            549.0\n",
      "Hungary                          1339.0\n",
      "Iceland                            63.0\n",
      "India                          112150.0\n",
      "Indonesia                       11823.0\n",
      "Ireland                           550.0\n",
      "Isle of Man                        90.0\n",
      "Israel                           6887.0\n",
      "Italy                             926.0\n",
      "Kuwait                              NaN\n",
      "Latvia                            338.0\n",
      "Lithuania                         311.0\n",
      "Luxembourg                         62.0\n",
      "Malta                             259.0\n",
      "Mexico                           1300.0\n",
      "Netherlands                      4000.0\n",
      "Northern Ireland                 1563.0\n",
      "Norway                            224.0\n",
      "Oman                              817.0\n",
      "Panama                              6.0\n",
      "Poland                           4300.0\n",
      "Portugal                         2791.0\n",
      "Romania                           712.0\n",
      "Russia                           3357.0\n",
      "Saudi Arabia                    14153.0\n",
      "Scotland                         3047.0\n",
      "Serbia                           1150.0\n",
      "Seychelles                        500.0\n",
      "Singapore                        2800.0\n",
      "Slovakia                          425.0\n",
      "Slovenia                         1270.0\n",
      "Spain                           41496.0\n",
      "Sweden                           3859.0\n",
      "Switzerland                      3000.0\n",
      "Turkey                          67192.0\n",
      "United Arab Emirates            30698.0\n",
      "United Kingdom                  46423.0\n",
      "United States                   57909.0\n",
      "Wales                            1763.0\n"
     ]
    }
   ],
   "source": [
    "statistic = df.groupby(['country']).agg({'daily_vaccinations': ['min']}) \n",
    "print (statistic)"
   ]
  },
  {
   "cell_type": "markdown",
   "metadata": {},
   "source": [
    "## Qestion 4\n",
    "Code Implementation Task: Implement code to fill the missing data (impute) in daily_vaccinations column per country with the minimum daily vaccination number of relevant countries.  \n",
    "Note: If a country does not have any valid vaccination number yet, fill it with “0” (zero). \n",
    "Please  provide the link to your code as answer to this question."
   ]
  },
  {
   "cell_type": "code",
   "execution_count": 66,
   "metadata": {},
   "outputs": [],
   "source": [
    "df['daily_vaccinations'] = df['daily_vaccinations'].fillna(df.groupby('country')['daily_vaccinations'].transform('min'))\n",
    "df['daily_vaccinations'] = df['daily_vaccinations'].fillna(0)"
   ]
  },
  {
   "cell_type": "code",
   "execution_count": 67,
   "metadata": {},
   "outputs": [
    {
     "name": "stdout",
     "output_type": "stream",
     "text": [
      "                     daily_vaccinations\n",
      "                                    min\n",
      "country                                \n",
      "Argentina                        6483.0\n",
      "Austria                          3368.0\n",
      "Bahrain                           943.0\n",
      "Belgium                             1.0\n",
      "Brazil                            112.0\n",
      "Bulgaria                          472.0\n",
      "Canada                            866.0\n",
      "Chile                              51.0\n",
      "China                          187500.0\n",
      "Costa Rica                        240.0\n",
      "Croatia                           989.0\n",
      "Cyprus                            534.0\n",
      "Czechia                          1822.0\n",
      "Denmark                          1994.0\n",
      "Ecuador                           108.0\n",
      "England                         37625.0\n",
      "Estonia                           309.0\n",
      "Finland                           459.0\n",
      "France                           5000.0\n",
      "Germany                         19721.0\n",
      "Gibraltar                         520.0\n",
      "Greece                            549.0\n",
      "Hungary                          1339.0\n",
      "Iceland                            63.0\n",
      "India                          112150.0\n",
      "Indonesia                       11823.0\n",
      "Ireland                           550.0\n",
      "Isle of Man                        90.0\n",
      "Israel                           6887.0\n",
      "Italy                             926.0\n",
      "Kuwait                              0.0\n",
      "Latvia                            338.0\n",
      "Lithuania                         311.0\n",
      "Luxembourg                         62.0\n",
      "Malta                             259.0\n",
      "Mexico                           1300.0\n",
      "Netherlands                      4000.0\n",
      "Northern Ireland                 1563.0\n",
      "Norway                            224.0\n",
      "Oman                              817.0\n",
      "Panama                              6.0\n",
      "Poland                           4300.0\n",
      "Portugal                         2791.0\n",
      "Romania                           712.0\n",
      "Russia                           3357.0\n",
      "Saudi Arabia                    14153.0\n",
      "Scotland                         3047.0\n",
      "Serbia                           1150.0\n",
      "Seychelles                        500.0\n",
      "Singapore                        2800.0\n",
      "Slovakia                          425.0\n",
      "Slovenia                         1270.0\n",
      "Spain                           41496.0\n",
      "Sweden                           3859.0\n",
      "Switzerland                      3000.0\n",
      "Turkey                          67192.0\n",
      "United Arab Emirates            30698.0\n",
      "United Kingdom                  46423.0\n",
      "United States                   57909.0\n",
      "Wales                            1763.0\n"
     ]
    }
   ],
   "source": [
    "statistic = df.groupby(['country']).agg({'daily_vaccinations': ['min']}) \n",
    "print (statistic)"
   ]
  },
  {
   "cell_type": "markdown",
   "metadata": {},
   "source": [
    "## Question 5\n",
    "Code Implementation Task: Implement code to list the top-3 countries with highest median daily vaccination numbers. \n",
    "Please  provide the link to your code as answer to this question."
   ]
  },
  {
   "cell_type": "code",
   "execution_count": 94,
   "metadata": {},
   "outputs": [
    {
     "data": {
      "text/plain": [
       "country\n",
       "United States    378253.0\n",
       "China            276786.0\n",
       "India            173922.0\n",
       "Name: daily_vaccinations, dtype: float64"
      ]
     },
     "execution_count": 94,
     "metadata": {},
     "output_type": "execute_result"
    }
   ],
   "source": [
    "df.groupby([\"country\"])['daily_vaccinations'].median().sort_values(ascending = False).head(3)"
   ]
  }
 ],
 "metadata": {
  "kernelspec": {
   "display_name": "Python 3",
   "language": "python",
   "name": "python3"
  },
  "language_info": {
   "codemirror_mode": {
    "name": "ipython",
    "version": 3
   },
   "file_extension": ".py",
   "mimetype": "text/x-python",
   "name": "python",
   "nbconvert_exporter": "python",
   "pygments_lexer": "ipython3",
   "version": "3.7.3"
  }
 },
 "nbformat": 4,
 "nbformat_minor": 2
}
